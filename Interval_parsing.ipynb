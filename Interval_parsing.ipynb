{
 "cells": [
  {
   "cell_type": "markdown",
   "metadata": {},
   "source": [
    "# Computer assisted proof of small negative segments for the Northcott property of zeta function over number fields"
   ]
  },
  {
   "cell_type": "markdown",
   "metadata": {},
   "source": [
    "## Function definitions."
   ]
  },
  {
   "cell_type": "code",
   "execution_count": 67,
   "metadata": {},
   "outputs": [],
   "source": [
    "var('x,t')\n",
    "\n",
    "F1(x) = 1 / sqrt(pi) * (22.38/(2*pi))^(1/2-x) * 1 / zeta(1-x) * gamma(1-x)\n",
    "G1(x,t) = sqrt(abs((sin(pi*(x+i*t)))/cosh(pi*t)))\n",
    "\n",
    "\n",
    "F2(x) = sqrt(2) / sqrt(pi) * (22.38/(2*pi))^(1/2-x) * gamma(1-x) / zeta(1-x)\n",
    "G2(x,t) = abs(sin(pi / 2 *(x+i*t)))/cosh(pi / 2 * t)\n",
    "\n",
    "# Finds the minimal height in the decreasing-increasing case. \n",
    "def interv_dec_inc(F,G, xmin, xmax, precision):\n",
    "    # Warnings\n",
    "    interv_warning(xmin,xmax)\n",
    "    \n",
    "    if n(derivative(G,x)((xmax+xmin)/2,0))< 0:\n",
    "        show('Warning: Negative derivative with increasing assumption')\n",
    "    \n",
    "    seglist = []\n",
    "    step = (xmax-xmin)/precision\n",
    "    height = 0\n",
    "    for k in range(precision):\n",
    "        a = xmin+k*step\n",
    "        b = xmin+(k+1)*step\n",
    "        \n",
    "        while n(F(b)*G(a,height*step)) > 1 and height > 0:\n",
    "            height -= 1\n",
    "        while n(F(b)*G(a,height*step)) <= 1:\n",
    "            height += 1\n",
    "            \n",
    "        seglist.append([(a,height*step),(b,height*step)])\n",
    "    return seglist\n",
    "\n",
    "# Finds the minimal height in the decreasing-decreasing case. \n",
    "def interv_dec_dec(F,G, xmin, xmax, precision):\n",
    "    # Warnings\n",
    "    interv_warning(xmin,xmax)\n",
    "    \n",
    "    if n(derivative(G,x)((xmax+xmin)/2,0))> 0:\n",
    "        show('Warning: Positive derivative with decreasing assumption')\n",
    "    \n",
    "    seglist = []\n",
    "    step = (xmax-xmin)/precision\n",
    "    height = 0\n",
    "    for k in range(precision):\n",
    "        a = xmin+k*step\n",
    "        b = xmin+(k+1)*step\n",
    "        \n",
    "        while n(F(b)*G(b,height*step)) > 1 and height > 0:\n",
    "            height -= 1\n",
    "        while n(F(b)*G(b,height*step)) <= 1:\n",
    "            height += 1\n",
    "            \n",
    "        seglist.append([(a,height*step),(b,height*step)])\n",
    "    return seglist\n",
    "\n",
    "# Function to compare two lists (usually one comes froms gamma_C and the other from gamma_R)\n",
    "# and choose the worst one (in terms of height)\n",
    "def worst_case(list1,list2):\n",
    "    wlist = []\n",
    "    lgt = min(len(list1),len(list2))\n",
    "    for k in range(0,lgt):\n",
    "        if list1[k][0][1]>list2[k][0][1]:\n",
    "            wlist.append(list1[k])\n",
    "        else:\n",
    "            wlist.append(list2[k])\n",
    "    return wlist\n",
    "\n",
    "\n",
    "# Draw the segments\n",
    "def draw(seglist):\n",
    "    S = line(seglist[0])\n",
    "    for l in range(1,len(seglist)):\n",
    "        S = S+line(seglist[l])\n",
    "    return S\n",
    "\n",
    "# Zooming on interesting part\n",
    "def zoom(seglist):\n",
    "    if seglist[0][0][1] > 0:\n",
    "        show('Good minimum already achieved')\n",
    "        xmin = seglist[0][0][0]\n",
    "    else:\n",
    "        for l in range(len(seglist)):\n",
    "            if seglist[l][0][1] == 0:\n",
    "                next\n",
    "            elif seglist[l-1][0][1] == 0:\n",
    "                xmin = seglist[l][0][0]\n",
    "            else:\n",
    "                break\n",
    "    if seglist[len(seglist)-1][1][1] > 0:\n",
    "        show('Good maximum already achieved')\n",
    "        xmax = seglist[len(seglist)-1][1][0] \n",
    "    else:\n",
    "        for l in range(len(seglist)):\n",
    "            if seglist[len(seglist)-l-1][1][1] == 0:\n",
    "                next\n",
    "            elif seglist[len(seglist)-l][1][1] == 0:\n",
    "                xmax = seglist[len(seglist)-l-1][1][0]\n",
    "            else:\n",
    "                break\n",
    "    \n",
    "    return (xmin,xmax)\n",
    "\n",
    "def radmax(center,seglist):\n",
    "    rmax = 0\n",
    "    for seg in seglist:\n",
    "        if seg[0][1] != 0:\n",
    "            rdist2 = (seg[1][0]-center)^2+seg[1][1]^2\n",
    "            if rdist2 > rmax:\n",
    "                rmax = rdist2\n",
    "    return rmax\n",
    "\n",
    "class IntervError(Exception):\n",
    "    pass\n",
    "\n",
    "def interv_warning(xmin,xmax):\n",
    "    if xmin % -0.5 == 0:\n",
    "        if (xmax < -0.5*(floor(xmin/-0.5)) or xmax > -0.5*(floor(xmin/-0.5) -1)):\n",
    "            raise IntervError('Warning: This software is not designed to handle segments where the derivative of F or G changes sign. Please make sure that both xmin and xmax belong in the same interval [-n,-n+0.5].')\n",
    "    elif (xmax < -0.5*(floor(xmin/-0.5)+1) or xmax > -0.5*(floor(xmin/-0.5))):\n",
    "        raise IntervError('Warning: This software is not designed to handle segments where the derivative of F or G changes sign. Please make sure that both xmin and xmax belong in the same interval [-n,-n+0.5].')\n",
    "    if xmin >= xmax:\n",
    "        raise IntervError('Warning: xmin should be stricly smaller than xmax.')\n",
    "    if  xmax > -0.65:\n",
    "        show('Warning: This software is not designed to handle segments with xmax > -0.65. Your process might not terminate.')\n",
    "    return\n",
    "\n"
   ]
  },
  {
   "cell_type": "markdown",
   "metadata": {},
   "source": [
    "The two following cells are for manual calculations.\n",
    "- Input valid intervals for xmin and xmax\n",
    "- Select precision\n",
    "- Run the cell"
   ]
  },
  {
   "cell_type": "code",
   "execution_count": 123,
   "metadata": {
    "scrolled": true
   },
   "outputs": [
    {
     "data": {
      "image/png": "[encoded data removed]",
      "text/plain": [
       "Graphics object consisting of 400 graphics primitives"
      ]
     },
     "metadata": {},
     "output_type": "display_data"
    },
    {
     "data": {
      "text/html": [
       "<html><script type=\"math/tex; mode=display\">\\newcommand{\\Bold}[1]{\\mathbf{#1}}0.0222036033111745</script></html>"
      ],
      "text/latex": [
       "$$\\newcommand{\\Bold}[1]{\\mathbf{#1}}0.0222036033111745$$"
      ],
      "text/plain": [
       "0.0222036033111745"
      ]
     },
     "metadata": {},
     "output_type": "display_data"
    },
    {
     "data": {
      "text/html": [
       "<html><script type=\"math/tex; mode=display\">\\newcommand{\\Bold}[1]{\\mathbf{#1}}0.0210000000000000</script></html>"
      ],
      "text/latex": [
       "$$\\newcommand{\\Bold}[1]{\\mathbf{#1}}0.0210000000000000$$"
      ],
      "text/plain": [
       "0.0210000000000000"
      ]
     },
     "metadata": {},
     "output_type": "display_data"
    }
   ],
   "source": [
    "xmin, xmax = -2,-1.8\n",
    "precision = 200\n",
    "seglist = worst_case(\n",
    "    interv_dec_inc(F1,G1,xmin,xmax,precision),\n",
    "    interv_dec_inc(F2,G2,xmin,xmax,precision)\n",
    ")\n",
    "\n",
    "xmin, xmax = -2.2,-2\n",
    "precision = 200\n",
    "seglist2 = worst_case(\n",
    "    interv_dec_dec(F1,G1,xmin,xmax,precision),\n",
    "    interv_dec_dec(F2,G2,xmin,xmax,precision)\n",
    ")\n",
    "\n",
    "show(draw(seglist)+draw(seglist2))\n",
    "show(sqrt(radmax(-2,seglist)))\n",
    "show(sqrt(radmax(-2,seglist2)))"
   ]
  },
  {
   "cell_type": "markdown",
   "metadata": {},
   "source": [
    "The following cell is used to zoom in the output of the last cell. You might need to run it multiple times.\n",
    "\n",
    "Output:\n",
    " - Checks if min and max are optimal\n",
    " - Current [xmin,xmax]\n",
    " - Current maximal radius"
   ]
  },
  {
   "cell_type": "code",
   "execution_count": 126,
   "metadata": {},
   "outputs": [
    {
     "data": {
      "text/html": [
       "Good minimum already achieved"
      ],
      "text/plain": [
       "'Good minimum already achieved'"
      ]
     },
     "metadata": {},
     "output_type": "display_data"
    },
    {
     "data": {
      "text/html": [
       "Good maximum already achieved"
      ],
      "text/plain": [
       "'Good maximum already achieved'"
      ]
     },
     "metadata": {},
     "output_type": "display_data"
    },
    {
     "data": {
      "text/html": [
       "<html><script type=\"math/tex; mode=display\">\\newcommand{\\Bold}[1]{\\mathbf{#1}}\\left(-2.00000000000000, -1.97899000000000\\right)</script></html>"
      ],
      "text/latex": [
       "$$\\newcommand{\\Bold}[1]{\\mathbf{#1}}\\left(-2.00000000000000, -1.97899000000000\\right)$$"
      ],
      "text/plain": [
       "(-2.00000000000000, -1.97899000000000)"
      ]
     },
     "metadata": {},
     "output_type": "display_data"
    },
    {
     "data": {
      "text/html": [
       "[-2.00000000000000, -1.97899000000000]"
      ],
      "text/plain": [
       "'[-2.00000000000000, -1.97899000000000]'"
      ]
     },
     "metadata": {},
     "output_type": "display_data"
    },
    {
     "data": {
      "text/html": [
       "Current radius: 0.0211607313068334"
      ],
      "text/plain": [
       "'Current radius: 0.0211607313068334'"
      ]
     },
     "metadata": {},
     "output_type": "display_data"
    },
    {
     "data": {
      "image/png": "[encoded data removed]",
      "text/plain": [
       "Graphics object consisting of 200 graphics primitives"
      ]
     },
     "metadata": {},
     "output_type": "display_data"
    }
   ],
   "source": [
    "newbounds = zoom(seglist) \n",
    "show(newbounds)\n",
    "xmin, xmax = newbounds[0], newbounds[1]\n",
    "\n",
    "seglist = worst_case(\n",
    "    interv_dec_inc(F1,G1,xmin,xmax,precision),\n",
    "    interv_dec_inc(F2,G2,xmin,xmax,precision)\n",
    ")\n",
    "show(str([xmin,xmax]))\n",
    "show('Current radius: ' + str(sqrt(radmax(-2,seglist))))\n",
    "show(draw(seglist))"
   ]
  },
  {
   "cell_type": "markdown",
   "metadata": {},
   "source": [
    "## Precoded cells for the first integers"
   ]
  },
  {
   "cell_type": "markdown",
   "metadata": {},
   "source": [
    "The case of $n=-1$:"
   ]
  },
  {
   "cell_type": "code",
   "execution_count": 122,
   "metadata": {},
   "outputs": [
    {
     "data": {
      "image/png": "[encoded data removed]",
      "text/plain": [
       "Graphics object consisting of 2000 graphics primitives"
      ]
     },
     "metadata": {},
     "output_type": "display_data"
    },
    {
     "data": {
      "text/html": [
       "Current radius: 0.0926216320430795"
      ],
      "text/plain": [
       "'Current radius: 0.0926216320430795'"
      ]
     },
     "metadata": {},
     "output_type": "display_data"
    }
   ],
   "source": [
    "xmin, xmax = -1,-0.906940000000000\n",
    "precision = 2000\n",
    "seglist = worst_case(\n",
    "    interv_dec_inc(F1,G1,xmin,xmax,precision),\n",
    "    interv_dec_dec(F2,G2,xmin,xmax,precision)\n",
    ")\n",
    "\n",
    "\n",
    "show(draw(seglist))\n",
    "show('Current radius: ' + str(sqrt(radmax(-1,seglist))))"
   ]
  },
  {
   "cell_type": "markdown",
   "metadata": {},
   "source": [
    "The case of $n=-2$:"
   ]
  },
  {
   "cell_type": "code",
   "execution_count": 129,
   "metadata": {},
   "outputs": [
    {
     "data": {
      "image/png": "[encoded data removed]",
      "text/plain": [
       "Graphics object consisting of 2000 graphics primitives"
      ]
     },
     "metadata": {},
     "output_type": "display_data"
    },
    {
     "data": {
      "text/html": [
       "Current radius: 0.0210585321976039"
      ],
      "text/plain": [
       "'Current radius: 0.0210585321976039'"
      ]
     },
     "metadata": {},
     "output_type": "display_data"
    }
   ],
   "source": [
    "xmin, xmax = -2,-1.97899000000000\n",
    "precision = 2000\n",
    "seglist = worst_case(\n",
    "    interv_dec_inc(F1,G1,xmin,xmax,precision),\n",
    "    interv_dec_inc(F2,G2,xmin,xmax,precision)\n",
    ")\n",
    "\n",
    "\n",
    "show(draw(seglist))\n",
    "show('Current radius: ' + str(sqrt(radmax(-2,seglist))))"
   ]
  },
  {
   "cell_type": "markdown",
   "metadata": {},
   "source": [
    "The case of $n = -3$:"
   ]
  },
  {
   "cell_type": "code",
   "execution_count": 99,
   "metadata": {},
   "outputs": [
    {
     "data": {
      "image/png": "[encoded data removed]",
      "text/plain": [
       "Graphics object consisting of 2000 graphics primitives"
      ]
     },
     "metadata": {},
     "output_type": "display_data"
    },
    {
     "data": {
      "text/html": [
       "Current radius: 4.47675217883685e-6"
      ],
      "text/plain": [
       "'Current radius: 4.47675217883685e-6'"
      ]
     },
     "metadata": {},
     "output_type": "display_data"
    }
   ],
   "source": [
    "xmin, xmax = -3,-2.99999552500000\n",
    "precision = 2000\n",
    "seglist = worst_case(\n",
    "    interv_dec_inc(F1,G1,xmin,xmax,precision),\n",
    "    interv_dec_dec(F2,G2,xmin,xmax,precision)\n",
    ")\n",
    "\n",
    "\n",
    "show(draw(seglist))\n",
    "show('Current radius: ' + str(sqrt(radmax(-3,seglist))))"
   ]
  },
  {
   "cell_type": "markdown",
   "metadata": {},
   "source": [
    "The case of $n = -4$:"
   ]
  },
  {
   "cell_type": "code",
   "execution_count": 107,
   "metadata": {},
   "outputs": [
    {
     "data": {
      "image/png": "[encoded data removed]",
      "text/plain": [
       "Graphics object consisting of 2000 graphics primitives"
      ]
     },
     "metadata": {},
     "output_type": "display_data"
    },
    {
     "data": {
      "text/html": [
       "Current radius: 0.000113587801802505"
      ],
      "text/plain": [
       "'Current radius: 0.000113587801802505'"
      ]
     },
     "metadata": {},
     "output_type": "display_data"
    }
   ],
   "source": [
    "xmin, xmax = -4,-3.99988672500000\n",
    "precision = 2000\n",
    "seglist = worst_case(\n",
    "    interv_dec_inc(F1,G1,xmin,xmax,precision),\n",
    "    interv_dec_inc(F2,G2,xmin,xmax,precision)\n",
    ")\n",
    "\n",
    "\n",
    "show(draw(seglist))\n",
    "show('Current radius: ' + str(sqrt(radmax(-4,seglist))))"
   ]
  },
  {
   "cell_type": "markdown",
   "metadata": {},
   "source": [
    "The case of $n = -5$:"
   ]
  },
  {
   "cell_type": "code",
   "execution_count": 116,
   "metadata": {},
   "outputs": [
    {
     "data": {
      "image/png": "[encoded data removed]",
      "text/plain": [
       "Graphics object consisting of 2000 graphics primitives"
      ]
     },
     "metadata": {},
     "output_type": "display_data"
    },
    {
     "data": {
      "text/html": [
       "Current radius: 6.14330610091810e-11"
      ],
      "text/plain": [
       "'Current radius: 6.14330610091810e-11'"
      ]
     },
     "metadata": {},
     "output_type": "display_data"
    }
   ],
   "source": [
    "# The case of n = -5\n",
    "xmin, xmax = -5,-4.99999999993750\n",
    "precision = 2000\n",
    "seglist = worst_case(\n",
    "    interv_dec_inc(F1,G1,xmin,xmax,precision),\n",
    "    interv_dec_dec(F2,G2,xmin,xmax,precision)\n",
    ")\n",
    "\n",
    "\n",
    "show(draw(seglist))\n",
    "show('Current radius: ' + str(sqrt(radmax(-5,seglist))))"
   ]
  }
 ],
 "metadata": {
  "kernelspec": {
   "display_name": "SageMath 9.3",
   "language": "sage",
   "name": "sagemath"
  },
  "language_info": {
   "codemirror_mode": {
    "name": "ipython",
    "version": 3
   },
   "file_extension": ".py",
   "mimetype": "text/x-python",
   "name": "python",
   "nbconvert_exporter": "python",
   "pygments_lexer": "ipython3",
   "version": "3.7.10"
  }
 },
 "nbformat": 4,
 "nbformat_minor": 4
}
