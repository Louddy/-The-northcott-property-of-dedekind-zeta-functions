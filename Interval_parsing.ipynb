{
 "cells": [
  {
   "cell_type": "code",
   "execution_count": 88,
   "metadata": {},
   "outputs": [],
   "source": [
    "var('x,t')\n",
    "\n",
    "F1(x) = 1 / sqrt(pi) * (22.38/(2*pi))^(1/2-x) * 1 / zeta(1-x) * gamma(1-x)\n",
    "G1(x,t) = sqrt(abs((sin(pi*(x+i*t)))/cosh(pi*t)))\n",
    "\n",
    "\n",
    "F2(x) = sqrt(2) / sqrt(pi) * (22.38/(2*pi))^(1/2-x) * gamma(1-x) / zeta(1-x)\n",
    "G2(x,t) = abs(sin(pi / 2 *(x+i*t)))/cosh(pi / 2 * t)\n",
    "\n",
    "# Finds the minimal height in the decreasing-increasing case. \n",
    "def interv_dec_inc(F,G, xmin, xmax, precision):\n",
    "    if n(derivative(G,x)((xmax+xmin)/2,0))< 0:\n",
    "        show('Warning: Negative derivative with increasing assumption')\n",
    "    \n",
    "    seglist = []\n",
    "    step = (xmax-xmin)/precision\n",
    "    height = 0\n",
    "    for k in range(precision):\n",
    "        a = xmin+k*step\n",
    "        b = xmin+(k+1)*step\n",
    "        \n",
    "        while n(F(b)*G(a,height*step)) > 1 and height > 0:\n",
    "            height -= 1\n",
    "        while n(F(b)*G(a,height*step)) <= 1:\n",
    "            height += 1\n",
    "        \n",
    "        seglist.append([(a,height*step),(b,height*step)])\n",
    "    return seglist\n",
    "\n",
    "# Finds the minimal height in the decreasing-decreasing case. \n",
    "def interv_dec_dec(F,G, xmin, xmax, precision):\n",
    "    if n(derivative(G,x)((xmax+xmin)/2,0))> 0:\n",
    "        show('Warning: Positive derivative with decreasing assumption')\n",
    "    \n",
    "    seglist = []\n",
    "    step = (xmax-xmin)/precision\n",
    "    height = 0\n",
    "    for k in range(precision):\n",
    "        a = xmin+k*step\n",
    "        b = xmin+(k+1)*step\n",
    "        \n",
    "        while n(F(b)*G(b,height*step)) > 1 and height > 0:\n",
    "            height -= 1\n",
    "        while n(F(b)*G(b,height*step)) <= 1:\n",
    "            height += 1\n",
    "        \n",
    "        seglist.append([(a,height*step),(b,height*step)])\n",
    "    return seglist\n",
    "\n",
    "# Function to compare two lists (usually one comes froms gamma_C and the other from gamma_R)\n",
    "# and choose the worst one (in terms of height)\n",
    "def worst_case(list1,list2):\n",
    "    wlist = []\n",
    "    lgt = min(len(list1),len(list2))\n",
    "    for k in range(0,lgt):\n",
    "        if list1[k][0][1]>list2[k][0][1]:\n",
    "            wlist.append(list1[k])\n",
    "        else:\n",
    "            wlist.append(list2[k])\n",
    "    return wlist\n",
    "\n",
    "\n",
    "# Draw the segments\n",
    "def draw(seglist):\n",
    "    S = line(seglist[0])\n",
    "    for l in range(1,len(seglist)):\n",
    "        S = S+line(seglist[l])\n",
    "    return S\n",
    "\n",
    "# Zooming on interesting part\n",
    "def zoom(seglist):\n",
    "    if seglist[0][0][1] > 0:\n",
    "        show('Good minimum already achieved')\n",
    "        xmin = seglist[0][0][0]\n",
    "    else:\n",
    "        for l in range(len(seglist)):\n",
    "            if seglist[l][0][1] == 0:\n",
    "                next\n",
    "            elif seglist[l-1][0][1] == 0:\n",
    "                xmin = seglist[l][0][0]\n",
    "            else:\n",
    "                break\n",
    "    if seglist[len(seglist)-1][1][1] > 0:\n",
    "        show('Good maximum already achieved')\n",
    "        xmax = seglist[len(seglist)-1][1][0] \n",
    "    else:\n",
    "        for l in range(len(seglist)):\n",
    "            if seglist[len(seglist)-l-1][0][1] == 0:\n",
    "                next\n",
    "            elif seglist[len(seglist)-l][0][1] == 0:\n",
    "                xmax = seglist[len(seglist)-l-1][0][0]\n",
    "            else:\n",
    "                break\n",
    "    \n",
    "    return (xmin,xmax)\n"
   ]
  },
  {
   "cell_type": "code",
   "execution_count": 100,
   "metadata": {},
   "outputs": [
    {
     "data": {
      "image/png": "[encoded data removed]",
      "text/plain": [
       "Graphics object consisting of 150 graphics primitives"
      ]
     },
     "metadata": {},
     "output_type": "display_data"
    }
   ],
   "source": [
    "xmin, xmax = -10.5,-10\n",
    "seglist = worst_case(\n",
    "    interv_dec_dec(F1,G1,xmin,xmax,150),\n",
    "    interv_dec_dec(F2,G2,xmin,xmax,150)\n",
    ")\n",
    "\n",
    "show(draw(seglist))"
   ]
  },
  {
   "cell_type": "code",
   "execution_count": 107,
   "metadata": {},
   "outputs": [
    {
     "data": {
      "text/html": [
       "Good maximum already achieved"
      ],
      "text/plain": [
       "'Good maximum already achieved'"
      ]
     },
     "metadata": {},
     "output_type": "display_data"
    },
    {
     "data": {
      "text/html": [
       "<html><script type=\"math/tex; mode=display\">\\newcommand{\\Bold}[1]{\\mathbf{#1}}\\left(-10.0000000000004, -10.0000000000000\\right)</script></html>"
      ],
      "text/latex": [
       "$$\\newcommand{\\Bold}[1]{\\mathbf{#1}}\\left(-10.0000000000004, -10.0000000000000\\right)$$"
      ],
      "text/plain": [
       "(-10.0000000000004, -10.0000000000000)"
      ]
     },
     "metadata": {},
     "output_type": "display_data"
    },
    {
     "data": {
      "image/png": "[encoded data removed]",
      "text/plain": [
       "Graphics object consisting of 150 graphics primitives"
      ]
     },
     "metadata": {},
     "output_type": "display_data"
    }
   ],
   "source": [
    "newbounds = zoom(seglist) \n",
    "show(newbounds)\n",
    "xmin, xmax = newbounds[0], newbounds[1]\n",
    "\n",
    "seglist = worst_case(\n",
    "    interv_dec_dec(F1,G1,xmin,xmax,150),\n",
    "    interv_dec_dec(F2,G2,xmin,xmax,150)\n",
    ")\n",
    "show(draw(seglist))"
   ]
  },
  {
   "cell_type": "code",
   "execution_count": null,
   "metadata": {},
   "outputs": [],
   "source": []
  }
 ],
 "metadata": {
  "kernelspec": {
   "display_name": "SageMath 9.3",
   "language": "sage",
   "name": "sagemath"
  },
  "language_info": {
   "codemirror_mode": {
    "name": "ipython",
    "version": 3
   },
   "file_extension": ".py",
   "mimetype": "text/x-python",
   "name": "python",
   "nbconvert_exporter": "python",
   "pygments_lexer": "ipython3",
   "version": "3.7.10"
  }
 },
 "nbformat": 4,
 "nbformat_minor": 4
}
