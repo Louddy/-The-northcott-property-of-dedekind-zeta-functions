{
 "cells": [
  {
   "cell_type": "markdown",
   "metadata": {},
   "source": [
    "# The first values of 4.12 and 4.17"
   ]
  },
  {
   "cell_type": "markdown",
   "metadata": {},
   "source": [
    "Input:\n",
    " - amount: How many cases you wish to compute.\n",
    " - $\\tau_0$ and $D_m$.\n",
    "\n",
    "Output: \n",
    " - For even negative integers we output the result of:\n",
    "   $$\n",
    "    \\rho(-2n) = \\max\\left\\lbrace\\frac{\\sin^{-1}(C_\\mathbb{C}(n))}{\\pi}, \\frac{2\\sin^{-1}(C_\\mathbb{R}(n))}{\\pi}\\right\\rbrace\n",
    "    $$\n",
    "    where\n",
    "    $$\n",
    "    C_\\mathbb{C}(n)  = \\pi\\left(\\frac{2\\pi}{D_m}\\right)^{4n}  \\frac{\\zeta\\left(2n+\\frac{1}{2}\\right)^2}{\\Gamma\\left(2n+\\frac{1}{2}\\right)^2}|\\cosh(\\pi\\tau_0)|\n",
    "    $$\n",
    "    and \n",
    "    $$\n",
    "    C_{\\mathbb{R}} (n) =  \\frac{\\sqrt{\\pi}}{\\sqrt{2}}\\left(\\frac{2\\pi}{D_m}\\right)^{2n}  \\frac{\\zeta(2n+\\frac{1}{2})}{\\Gamma(2n+\\frac{1}{2})}\\left|\\cosh\\left(\\frac{\\pi\\tau_0}{2}\\right)\\right|.\n",
    "    $$\n",
    " - For odd negative integers we output the result of:\n",
    "  $$\\rho(-2n+1) = \\frac{1}{\\pi}\\sin^{-1}\\left(\\pi \\left(\\frac{2\\pi}{D_m}\\right)^{4n-2}\\frac{\\zeta\\left(2n-\\frac{1}{2}\\right)^2}{\\Gamma\\left(2n-\\frac{1}{2}\\right)^2}|\\cosh(\\pi\\tau_0)|\\right).$$"
   ]
  },
  {
   "cell_type": "code",
   "execution_count": 15,
   "metadata": {},
   "outputs": [
    {
     "data": {
      "text/html": [
       "For n = -2, we have r > 0.0638806017298651"
      ],
      "text/plain": [
       "'For n = -2, we have r > 0.0638806017298651'"
      ]
     },
     "metadata": {},
     "output_type": "display_data"
    },
    {
     "data": {
      "text/html": [
       "For n = -3, we have r > 0.0000573936967757278"
      ],
      "text/plain": [
       "'For n = -3, we have r > 0.0000573936967757278'"
      ]
     },
     "metadata": {},
     "output_type": "display_data"
    },
    {
     "data": {
      "text/html": [
       "For n = -4, we have r > 0.000451605037614175"
      ],
      "text/plain": [
       "'For n = -4, we have r > 0.000451605037614175'"
      ]
     },
     "metadata": {},
     "output_type": "display_data"
    },
    {
     "data": {
      "text/html": [
       "For n = -5, we have r > 1.18971838894886e-9"
      ],
      "text/plain": [
       "'For n = -5, we have r > 1.18971838894886e-9'"
      ]
     },
     "metadata": {},
     "output_type": "display_data"
    },
    {
     "data": {
      "text/html": [
       "For n = -6, we have r > 1.37979924082547e-6"
      ],
      "text/plain": [
       "'For n = -6, we have r > 1.37979924082547e-6'"
      ]
     },
     "metadata": {},
     "output_type": "display_data"
    },
    {
     "data": {
      "text/html": [
       "For n = -7, we have r > 5.56519089714126e-15"
      ],
      "text/plain": [
       "'For n = -7, we have r > 5.56519089714126e-15'"
      ]
     },
     "metadata": {},
     "output_type": "display_data"
    },
    {
     "data": {
      "text/html": [
       "For n = -8, we have r > 2.21044432193022e-9"
      ],
      "text/plain": [
       "'For n = -8, we have r > 2.21044432193022e-9'"
      ]
     },
     "metadata": {},
     "output_type": "display_data"
    },
    {
     "data": {
      "text/html": [
       "For n = -9, we have r > 8.43067125549825e-21"
      ],
      "text/plain": [
       "'For n = -9, we have r > 8.43067125549825e-21'"
      ]
     },
     "metadata": {},
     "output_type": "display_data"
    },
    {
     "data": {
      "text/html": [
       "For n = -10, we have r > 2.15269591866176e-12"
      ],
      "text/plain": [
       "'For n = -10, we have r > 2.15269591866176e-12'"
      ]
     },
     "metadata": {},
     "output_type": "display_data"
    },
    {
     "data": {
      "text/html": [
       "For n = -11, we have r > 5.25140789627591e-27"
      ],
      "text/plain": [
       "'For n = -11, we have r > 5.25140789627591e-27'"
      ]
     },
     "metadata": {},
     "output_type": "display_data"
    }
   ],
   "source": [
    "# Choose how many cases you wish to compute\n",
    "amount = 10\n",
    "# Value of $\\tau_0$\n",
    "tau = 0.063666614347732993750423566323206603946\n",
    "Dm = 22.3815\n",
    "\n",
    "# Functions for n even case\n",
    "Cev(x) = 1 / pi * (Dm/(2*pi))^(4*x) * gamma(2*x+1/2)^2 / zeta(2*x+1/2)^2 * 1 / cosh(pi*tau)\n",
    "Rev(x) = sqrt(2/pi) * (Dm/(2*pi))^(2*x) * gamma(2*x+1/2) / zeta(2*x+1/2) * 1 / cosh(pi*tau/2)\n",
    "\n",
    "Rod(x) = pi*(2*pi/Dm)^(4*x-2) * zeta(2*x-1/2)^2/gamma(2*x-1/2)^2*cosh(pi*tau)\n",
    "\n",
    "\n",
    "radlist = []\n",
    "for m in range(2,amount+2):\n",
    "    if m%2 == 0:\n",
    "        m = m/2\n",
    "        radlist.append(max(n((1 / pi * asin(Cev(m)^(-1)))),n(2 / pi * asin(Rev(m)^(-1))) ))\n",
    "    else: \n",
    "        m = (m+1)/2\n",
    "        radlist.append(n(1 / pi * asin( Rod(m) )))\n",
    "\n",
    "        \n",
    "for rad in radlist:\n",
    "    show('For n = ' + str(-(radlist.index(rad)+2)) + ', we have r > ' + str(rad))"
   ]
  }
 ],
 "metadata": {
  "kernelspec": {
   "display_name": "SageMath 9.3",
   "language": "sage",
   "name": "sagemath"
  },
  "language_info": {
   "codemirror_mode": {
    "name": "ipython",
    "version": 3
   },
   "file_extension": ".py",
   "mimetype": "text/x-python",
   "name": "python",
   "nbconvert_exporter": "python",
   "pygments_lexer": "ipython3",
   "version": "3.7.10"
  }
 },
 "nbformat": 4,
 "nbformat_minor": 4
}
