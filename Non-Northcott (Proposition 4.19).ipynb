{
 "cells": [
  {
   "cell_type": "markdown",
   "metadata": {},
   "source": [
    "# The first values of Proposition 4.19"
   ]
  },
  {
   "cell_type": "markdown",
   "metadata": {},
   "source": [
    "Input:\n",
    " - amount: How many cases you wish to compute.\n",
    "\n",
    "Output: \n",
    " - The result of \n",
    "   $$\\frac{1}{\\pi} \\sinh^{-1} \\left(  \\frac{\\pi}{\\Gamma\\left(n+\\frac{3}{2}\\right)^2\\zeta\\left(n+\\frac{1}      {2}\\right)^2}\\left(\\frac{2\\pi}{D_M}\\right)^{2n+2} \\right),$$\n",
    "   for $n\\in \\{1,2,\\dots, \\text{amount}\\}$"
   ]
  },
  {
   "cell_type": "code",
   "execution_count": 4,
   "metadata": {},
   "outputs": [
    {
     "data": {
      "text/html": [
       "For n = -1, we have r < 3.41544314294187e-6"
      ],
      "text/plain": [
       "'For n = -1, we have r < 3.41544314294187e-6'"
      ]
     },
     "metadata": {},
     "output_type": "display_data"
    },
    {
     "data": {
      "text/html": [
       "For n = -2, we have r < 1.33002682400130e-8"
      ],
      "text/plain": [
       "'For n = -2, we have r < 1.33002682400130e-8'"
      ]
     },
     "metadata": {},
     "output_type": "display_data"
    },
    {
     "data": {
      "text/html": [
       "For n = -3, we have r < 9.87756791028680e-12"
      ],
      "text/plain": [
       "'For n = -3, we have r < 9.87756791028680e-12'"
      ]
     },
     "metadata": {},
     "output_type": "display_data"
    },
    {
     "data": {
      "text/html": [
       "For n = -4, we have r < 3.57271952146674e-15"
      ],
      "text/plain": [
       "'For n = -4, we have r < 3.57271952146674e-15'"
      ]
     },
     "metadata": {},
     "output_type": "display_data"
    },
    {
     "data": {
      "text/html": [
       "For n = -5, we have r < 8.02253929140326e-19"
      ],
      "text/plain": [
       "'For n = -5, we have r < 8.02253929140326e-19'"
      ]
     },
     "metadata": {},
     "output_type": "display_data"
    },
    {
     "data": {
      "text/html": [
       "For n = -6, we have r < 1.25064897849696e-22"
      ],
      "text/plain": [
       "'For n = -6, we have r < 1.25064897849696e-22'"
      ]
     },
     "metadata": {},
     "output_type": "display_data"
    },
    {
     "data": {
      "text/html": [
       "For n = -7, we have r < 1.44453463035045e-26"
      ],
      "text/plain": [
       "'For n = -7, we have r < 1.44453463035045e-26'"
      ]
     },
     "metadata": {},
     "output_type": "display_data"
    },
    {
     "data": {
      "text/html": [
       "For n = -8, we have r < 1.29077868952954e-30"
      ],
      "text/plain": [
       "'For n = -8, we have r < 1.29077868952954e-30'"
      ]
     },
     "metadata": {},
     "output_type": "display_data"
    },
    {
     "data": {
      "text/html": [
       "For n = -9, we have r < 9.20563514210549e-35"
      ],
      "text/plain": [
       "'For n = -9, we have r < 9.20563514210549e-35'"
      ]
     },
     "metadata": {},
     "output_type": "display_data"
    }
   ],
   "source": [
    "# Choose how many cases you wish to compute\n",
    "amount = 10\n",
    "\n",
    "radlist = [(1/pi * asinh(pi/(gamma(n+3/2)^2*zeta(n+1/2)^2) * (2*pi/78.43)^(2*n+2))).n() for n in range(1,amount)]\n",
    "for rad in radlist:\n",
    "    show('For n = ' + str(-(radlist.index(rad)+1)) + ', we have r < ' + str(rad))"
   ]
  }
 ],
 "metadata": {
  "kernelspec": {
   "display_name": "SageMath 9.3",
   "language": "sage",
   "name": "sagemath"
  },
  "language_info": {
   "codemirror_mode": {
    "name": "ipython",
    "version": 3
   },
   "file_extension": ".py",
   "mimetype": "text/x-python",
   "name": "python",
   "nbconvert_exporter": "python",
   "pygments_lexer": "ipython3",
   "version": "3.7.10"
  }
 },
 "nbformat": 4,
 "nbformat_minor": 4
}
